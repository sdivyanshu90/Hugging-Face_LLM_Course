{
  "cells": [
    {
      "cell_type": "markdown",
      "metadata": {
        "id": "qLsJA1qDbno0"
      },
      "source": [
        "# Bias and limitations"
      ]
    },
    {
      "cell_type": "markdown",
      "metadata": {
        "id": "1mLtRZQlbno3"
      },
      "source": [
        "Install the Transformers, Datasets, and Evaluate libraries to run this notebook."
      ]
    },
    {
      "cell_type": "code",
      "execution_count": null,
      "metadata": {
        "id": "b4H9I_D-bno3"
      },
      "outputs": [],
      "source": [
        "!pip install datasets evaluate transformers[sentencepiece]"
      ]
    },
    {
      "cell_type": "code",
      "execution_count": null,
      "metadata": {
        "id": "QxC0JGPZbno4",
        "outputId": "b93fa0ac-f283-4b4d-9a24-c02550e232a9"
      },
      "outputs": [
        {
          "data": {
            "text/plain": [
              "['lawyer', 'carpenter', 'doctor', 'waiter', 'mechanic']\n",
              "['nurse', 'waitress', 'teacher', 'maid', 'prostitute']"
            ]
          },
          "execution_count": null,
          "metadata": {},
          "output_type": "execute_result"
        }
      ],
      "source": [
        "from transformers import pipeline\n",
        "\n",
        "unmasker = pipeline(\"fill-mask\", model=\"bert-base-uncased\")\n",
        "result = unmasker(\"This man works as a [MASK].\")\n",
        "print([r[\"token_str\"] for r in result])\n",
        "\n",
        "result = unmasker(\"This woman works as a [MASK].\")\n",
        "print([r[\"token_str\"] for r in result])"
      ]
    }
  ],
  "metadata": {
    "colab": {
      "name": "Bias and limitations",
      "provenance": []
    }
  },
  "nbformat": 4,
  "nbformat_minor": 0
}