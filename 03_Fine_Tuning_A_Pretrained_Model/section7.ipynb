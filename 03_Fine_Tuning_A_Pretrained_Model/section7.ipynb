{
  "cells": [
    {
      "cell_type": "code",
      "execution_count": null,
      "metadata": {
        "id": "w0iVuWbfUsMq"
      },
      "outputs": [],
      "source": [
        "# Install Pytorch & other libraries\n",
        "%pip install -qqq torch torchvision setuptools scikit-learn\n",
        "\n",
        "# Install Hugging Face libraries\n",
        "%pip install  --upgrade datasets -qqq accelerate hf-transfer transformers"
      ]
    },
    {
      "cell_type": "code",
      "execution_count": null,
      "metadata": {
        "id": "-vQk2H4cU43r"
      },
      "outputs": [],
      "source": [
        "from datasets import load_dataset\n",
        "\n",
        "# Dataset id from huggingface.co/dataset\n",
        "dataset_id = \"burtenshaw/PleIAs_common_corpus_code_classification\"\n",
        "\n",
        "# Load raw dataset\n",
        "dataset = load_dataset(dataset_id)"
      ]
    },
    {
      "cell_type": "code",
      "execution_count": null,
      "metadata": {
        "id": "scLV2l8DeAXk"
      },
      "outputs": [],
      "source": [
        "print(len(dataset[\"train\"]))\n",
        "print(dataset[\"train\"][0])"
      ]
    },
    {
      "cell_type": "code",
      "execution_count": null,
      "metadata": {
        "id": "nu03sFAiVBZm"
      },
      "outputs": [],
      "source": [
        "from transformers import AutoTokenizer\n",
        "\n",
        "# Model id to load the tokenizer\n",
        "model_id = \"answerdotai/ModernBERT-base\"\n",
        "\n",
        "# Load Tokenizer\n",
        "tokenizer = AutoTokenizer.from_pretrained(model_id)\n",
        "\n",
        "# Tokenize helper function\n",
        "def tokenize(batch):\n",
        "    return tokenizer(batch['text'], padding=True, truncation=True, return_tensors=\"pt\")\n",
        "\n",
        "# Tokenize dataset\n",
        "tokenized_dataset = dataset.map(tokenize, batched=True, remove_columns=[\"text\"])\n",
        "\n",
        "tokenized_dataset[\"train\"].features.keys()\n",
        "# dict_keys(['labels', 'input_ids', 'attention_mask'])\n"
      ]
    },
    {
      "cell_type": "code",
      "execution_count": null,
      "metadata": {
        "id": "3EJxH4YsVBcW"
      },
      "outputs": [],
      "source": [
        "from transformers import AutoModelForSequenceClassification\n",
        "\n",
        "# Model id to load the tokenizer\n",
        "model_id = \"answerdotai/ModernBERT-base\"\n",
        "\n",
        "# Prepare model labels - useful for inference\n",
        "labels = list(set(tokenized_dataset[\"train\"][\"labels\"]))\n",
        "num_labels = len(labels)\n",
        "label2id, id2label = dict(), dict()\n",
        "for i, label in enumerate(labels):\n",
        "    label2id[label] = str(i)\n",
        "    id2label[str(i)] = label"
      ]
    },
    {
      "cell_type": "code",
      "execution_count": null,
      "metadata": {
        "id": "Da-JsWNlg-cO"
      },
      "outputs": [],
      "source": [
        "# Download the model from huggingface.co/models\n",
        "model = AutoModelForSequenceClassification.from_pretrained(\n",
        "    model_id, num_labels=num_labels, label2id=label2id, id2label=id2label,\n",
        ")"
      ]
    },
    {
      "cell_type": "code",
      "execution_count": null,
      "metadata": {
        "id": "Rb9Ab_ykVBfD"
      },
      "outputs": [],
      "source": [
        "import numpy as np\n",
        "from sklearn.metrics import f1_score\n",
        "\n",
        "# Metric helper method\n",
        "def compute_metrics(eval_pred):\n",
        "    predictions, labels = eval_pred\n",
        "    predictions = np.argmax(predictions, axis=1)\n",
        "    score = f1_score(\n",
        "            labels, predictions, labels=labels, pos_label=1, average=\"weighted\"\n",
        "        )\n",
        "    return {\"f1\": float(score) if score == 1 else score}\n"
      ]
    },
    {
      "cell_type": "code",
      "execution_count": null,
      "metadata": {
        "id": "MOgrfOJJVHSj"
      },
      "outputs": [],
      "source": [
        "from huggingface_hub import HfFolder\n",
        "from transformers import Trainer, TrainingArguments\n",
        "\n",
        "# Define training args\n",
        "training_args = TrainingArguments(\n",
        "    output_dir= \"ModernBERT-code-classifier\",\n",
        "    per_device_train_batch_size=1,\n",
        "    per_device_eval_batch_size=1,\n",
        "    gradient_accumulation_steps=16,\n",
        "    learning_rate=5e-5,\n",
        "    num_train_epochs=5,\n",
        "    bf16=True, # bfloat16 training\n",
        "    optim=\"adamw_torch_fused\", # improved optimizer\n",
        "    # logging & evaluation strategies\n",
        "    logging_strategy=\"steps\",\n",
        "    logging_steps=100,\n",
        "    eval_strategy=\"epoch\",\n",
        "    save_strategy=\"epoch\",\n",
        "    save_total_limit=2,\n",
        "    load_best_model_at_end=True,\n",
        "    metric_for_best_model=\"f1\",\n",
        "    # push to hub parameters\n",
        "    push_to_hub=True,\n",
        "    hub_strategy=\"every_save\",\n",
        "    hub_token=HfFolder.get_token(),\n",
        "    report_to=\"wandb\"\n",
        ")"
      ]
    },
    {
      "cell_type": "markdown",
      "metadata": {
        "id": "lgQsi3tnXJU4"
      },
      "source": [
        "# Overfitting"
      ]
    },
    {
      "cell_type": "code",
      "execution_count": null,
      "metadata": {
        "id": "DiwCjMY2XJci"
      },
      "outputs": [],
      "source": [
        "limited_dataset = tokenized_dataset[\"train\"].select(range(100))\n",
        "\n",
        "# Create a Trainer instance\n",
        "trainer = Trainer(\n",
        "    model=model,\n",
        "    args=training_args,\n",
        "    train_dataset=limited_dataset,\n",
        "    eval_dataset=tokenized_dataset[\"test\"],\n",
        "    compute_metrics=compute_metrics,\n",
        ")\n",
        "trainer.train()"
      ]
    },
    {
      "cell_type": "code",
      "execution_count": null,
      "metadata": {
        "id": "eZMjCx_1XiC0"
      },
      "outputs": [],
      "source": [
        "# clear memory\n",
        "\n",
        "import torch\n",
        "torch.cuda.empty_cache()\n",
        "\n",
        "del trainer\n",
        "del model\n",
        "del limited_dataset"
      ]
    },
    {
      "cell_type": "markdown",
      "metadata": {
        "id": "u86h29rsXJlY"
      },
      "source": [
        "# Underfitting"
      ]
    },
    {
      "cell_type": "code",
      "execution_count": null,
      "metadata": {
        "id": "zOZHoke2XJtk"
      },
      "outputs": [],
      "source": [
        "# define a low learning rate\n",
        "training_args.learning_rate = 1e-7\n",
        "\n",
        "# Create a Trainer instance\n",
        "trainer = Trainer(\n",
        "    model=model,\n",
        "    args=training_args,\n",
        "    train_dataset=limited_dataset,\n",
        "    eval_dataset=tokenized_dataset[\"test\"],\n",
        "    compute_metrics=compute_metrics,\n",
        ")\n",
        "trainer.train()"
      ]
    },
    {
      "cell_type": "code",
      "execution_count": null,
      "metadata": {
        "id": "2r3jOiQ1Xq-E"
      },
      "outputs": [],
      "source": [
        "# clear memory\n",
        "\n",
        "import torch\n",
        "torch.cuda.empty_cache()\n",
        "\n",
        "del trainer\n",
        "del model"
      ]
    },
    {
      "cell_type": "markdown",
      "metadata": {
        "id": "2FQRRGOyXKAZ"
      },
      "source": [
        "# Just right! 🥣"
      ]
    },
    {
      "cell_type": "code",
      "execution_count": null,
      "metadata": {
        "id": "QGL6NDFUXKI3"
      },
      "outputs": [],
      "source": [
        "# define a valid learning rate\n",
        "training_args.learning_rate = 5e-5\n",
        "\n",
        "# Create a Trainer instance\n",
        "trainer = Trainer(\n",
        "    model=model,\n",
        "    args=training_args,\n",
        "    train_dataset=limited_dataset,\n",
        "    eval_dataset=tokenized_dataset[\"test\"],\n",
        "    compute_metrics=compute_metrics,\n",
        ")\n",
        "trainer.train()"
      ]
    },
    {
      "cell_type": "markdown",
      "metadata": {
        "id": "R3pV0O3uhc2X"
      },
      "source": [
        "# Inference"
      ]
    },
    {
      "cell_type": "code",
      "execution_count": null,
      "metadata": {
        "id": "9dSYxaH4VQRY"
      },
      "outputs": [],
      "source": [
        "from transformers import pipeline\n",
        "\n",
        "# load model from huggingface.co/models using our repository id\n",
        "classifier = pipeline(\n",
        "    task=\"text-classification\",\n",
        "    model=\"argilla/ModernBERT-domain-classifier\",\n",
        "    device=0,\n",
        ")\n",
        "\n",
        "sample = \"\"\"def add_numbers(a, b):\n",
        "    return a + b\"\"\"\n",
        "\n",
        "classifier(sample)\n"
      ]
    }
  ],
  "metadata": {
    "accelerator": "GPU",
    "colab": {
      "gpuType": "T4",
      "machine_shape": "hm",
      "provenance": []
    },
    "kernelspec": {
      "display_name": "Python 3",
      "name": "python3"
    },
    "language_info": {
      "name": "python"
    }
  },
  "nbformat": 4,
  "nbformat_minor": 0
}